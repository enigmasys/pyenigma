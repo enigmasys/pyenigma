{
 "cells": [
  {
   "cell_type": "code",
   "execution_count": null,
   "id": "initial_id",
   "metadata": {
    "collapsed": true
   },
   "outputs": [],
   "source": [
    "!pip install pyudcp --upgrade\n"
   ]
  },
  {
   "cell_type": "code",
   "execution_count": null,
   "outputs": [],
   "source": [
    "\n",
    "# Initialize the Constants used in the code\n",
    "import pyudcp\n",
    "\n",
    "\n",
    "# LEAP CLI Jar Base Root Path\n",
    "LEAP_CLI_JAR_PATH = \"/Users/yogeshbarve/Projects/rest-tutorials/Pydantic-test/LEAP_CLI\"\n",
    "\n",
    "# Download data Constants...\n",
    "# ==================================================================================================\n",
    "# e0de6a4a-5257-4f2c-b3ce-470e3299fc4a  |  DigitalPhenotyping Content Sandbox v1  |  DigitalPhenotypingSandboxV1 \n",
    "REPOSITORY_ID = \"e0de6a4a-5257-4f2c-b3ce-470e3299fc4a\"\n",
    "DOWNLOAD_URI = \"pdp://leappremonitiondev.azurewebsites.net/vutest/6e9da372-8cc7-4b11-bf85-23ed9d83a301/60/0\"\n",
    "DOWNLOAD_DIR = \"./output\"\n",
    "\n",
    "# Upload data Constants...\n",
    "# ==================================================================================================\n",
    "UPLOAD_DIR = \"./upload/uploads\"\n",
    "UPLOAD_METADATA = \"./upload/metadataUpload.json\"\n",
    "# Sandbox Content type(Test Repo2)\n",
    "# ae0f62d0-854b-4696-8c7d-54e89e04308e  |  Bootcamp Sandbox  |  TestRepo2\n",
    "UPLOAD_REPO_ID = \"ae0f62d0-854b-4696-8c7d-54e89e04308e\"\n",
    "\n",
    "import datetime\n",
    "PARTCIPANT_ID = \"testParticipant\"\n",
    "UPLOAD_DISCRIPTION = \"Jupyter-1-testContent, Uploaded on \" + str(datetime.datetime.now()) + \"for Participant \" + str(PARTCIPANT_ID)\n"
   ],
   "metadata": {
    "collapsed": false
   },
   "id": "1109722f25659e0b"
  },
  {
   "cell_type": "code",
   "execution_count": null,
   "outputs": [],
   "source": [
    "def run_repolisting():\n",
    "    cli = pyudcp.UDCPPythonBinding()\n",
    "    cli.setExecutableRootDir(LEAP_CLI_JAR_PATH)\n",
    "    cli.run_repo_listing()"
   ],
   "metadata": {
    "collapsed": false
   },
   "id": "dfbf938f060a8413"
  },
  {
   "cell_type": "code",
   "execution_count": null,
   "outputs": [],
   "source": [
    "def run_help():\n",
    "    cli = pyudcp.UDCPPythonBinding()\n",
    "    cli.setExecutableRootDir(LEAP_CLI_JAR_PATH)\n",
    "    cli.run_help()"
   ],
   "metadata": {
    "collapsed": false
   },
   "id": "3b002f8a67b8d1b7"
  },
  {
   "cell_type": "code",
   "execution_count": null,
   "outputs": [],
   "source": [
    "def run_download():\n",
    "    cli = pyudcp.UDCPPythonBinding()\n",
    "    cli.setExecutableRootDir(LEAP_CLI_JAR_PATH)\n",
    "    download_dir = EnsureDirectoryIsPresent(DOWNLOAD_DIR)\n",
    "    print(\"Downloading to \" + download_dir)\n",
    "    cli.downloadData(DOWNLOAD_DIR, DOWNLOAD_URI)"
   ],
   "metadata": {
    "collapsed": false
   },
   "id": "ba2a717c44adfcff"
  },
  {
   "cell_type": "code",
   "execution_count": null,
   "outputs": [],
   "source": [
    "def EnsureDirectoryIsPresent(directory):\n",
    "    #MAKE SURE THE DIRECTORY IS PRESENT IF NOT CREATE ONE\n",
    "    import os\n",
    "    # Check if the Download_Dir is a relative path or not\n",
    "    # if it is a relative path then make it absolute path\n",
    "    if not os.path.isabs(directory):\n",
    "        directory = os.path.join(os.getcwd(), directory)\n",
    "    \n",
    "    if not os.path.exists(directory):\n",
    "        os.makedirs(directory)\n",
    "        print(\"Directory \" , directory ,  \" Created \")\n",
    "    \n",
    "    return directory\n",
    "    "
   ],
   "metadata": {
    "collapsed": false
   },
   "id": "f7b1acb02de80346"
  },
  {
   "cell_type": "code",
   "execution_count": null,
   "outputs": [],
   "source": [
    "def run_upload():\n",
    "    import datetime\n",
    "    cli = pyudcp.UDCPPythonBinding()\n",
    "    cli.setExecutableRootDir(LEAP_CLI_JAR_PATH)\n",
    "    # Upload data to the Sandbox Content type(Test Repo2)\n",
    "    cli.uploadData(UPLOAD_DIR,\n",
    "                   UPLOAD_REPO_ID,\n",
    "                   UPLOAD_METADATA,\n",
    "                   UPLOAD_DISCRIPTION)\n",
    "\n"
   ],
   "metadata": {
    "collapsed": false
   },
   "id": "14e2164dfc7eaa6c"
  },
  {
   "cell_type": "code",
   "execution_count": null,
   "outputs": [],
   "source": [
    "if __name__ == '__main__':\n",
    "    print('UDCP CLI Tutorial 1')\n",
    "    # Run the Help Command of the UDCP CLI\n",
    "    # run_help()\n",
    "    # # Run the Repo Listing Command\n",
    "    run_repolisting()\n",
    "    # # Download test data\n",
    "    # run_download()\n",
    "    # # Upload the test data\n",
    "    # run_upload()\n"
   ],
   "metadata": {
    "collapsed": false
   },
   "id": "a149fb355daf1ec3"
  },
  {
   "cell_type": "code",
   "execution_count": null,
   "outputs": [],
   "source": [],
   "metadata": {
    "collapsed": false
   },
   "id": "d260757413f460ee"
  },
  {
   "cell_type": "code",
   "execution_count": null,
   "outputs": [],
   "source": [],
   "metadata": {
    "collapsed": false
   },
   "id": "2aec864e28e97db6"
  }
 ],
 "metadata": {
  "kernelspec": {
   "display_name": "Python 3",
   "language": "python",
   "name": "python3"
  },
  "language_info": {
   "codemirror_mode": {
    "name": "ipython",
    "version": 2
   },
   "file_extension": ".py",
   "mimetype": "text/x-python",
   "name": "python",
   "nbconvert_exporter": "python",
   "pygments_lexer": "ipython2",
   "version": "2.7.6"
  }
 },
 "nbformat": 4,
 "nbformat_minor": 5
}
